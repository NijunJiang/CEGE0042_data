{
 "cells": [
  {
   "cell_type": "markdown",
   "id": "d2765f2e-cb2b-4922-b921-bb47f2891e27",
   "metadata": {},
   "source": [
    "# Spatial analysis of Chicago burglary crime patterns "
   ]
  },
  {
   "cell_type": "markdown",
   "id": "b140ca35-a121-42b5-9a30-7d79be065c63",
   "metadata": {},
   "source": [
    "## 1.0 Introduction and analysis context"
   ]
  },
  {
   "cell_type": "markdown",
   "id": "15cc41db-e51c-421d-bca9-8978905ae4aa",
   "metadata": {},
   "source": [
    "word count: ~ 3000"
   ]
  },
  {
   "cell_type": "markdown",
   "id": "de475f68-4485-418d-81cf-05b7f8496805",
   "metadata": {},
   "source": [
    "### 1.1 Context and literature review"
   ]
  },
  {
   "cell_type": "markdown",
   "id": "67f54e42-e164-4175-9286-f101ceef194f",
   "metadata": {},
   "source": [
    "The continuous digitisation of police recorded crime statistics enables researchers and authorities to probe urban crime in depth. There are several related studies from different perspectives and using various computational techniques. From an academic and governing angle, spatial analysis of criminal activities plays an essential role in criminological research and policymaking (Andresen, 2005). Spatial analysis techniques, particularly DBSCAN,  help law enforcement safeguard crime-prone areas (Thakur, 2020). A spatial analysis of the burglary crime incidents could help policymakers allocate public and human resources to where they can be most effective. Relocating existing resources to crime hotspots identified by DBSCAN can have a positive investment return (Wheeler and Reuter, 2020).\n",
    "\n",
    "Spatial patterns of the burglary that this project found can be associated with other local socio-economic factors to determine which kind of neighbourhoods are prone to burglaries (Craglia, Haining and Wiles, 2000). Several case studies show the link between local socio-economic factors and the crime rate. A significant correlation was found between the unemployment rate and crimes in an analysis of US data from 1974-2000 (Lin, 2008). Global datasets suggest that rising educational attainment leads to a reduction in criminal activities. One extra year's school education decreases burglary and larceny by around six per cent (Hjalmarsson & Lochner, 2012). One research of the City of Toronto finds crime hotspots in low-income areas while high in-come communities suffer a much lower crime rate (Charron, 2009). This project uses Chicago socio-economic datasets from the heartland alliance to build a model to predict crime rates in different communities."
   ]
  },
  {
   "cell_type": "markdown",
   "id": "6d1cef7f-d798-4d0f-a83c-42215100a59a",
   "metadata": {},
   "source": [
    "### 1.2 Project goals"
   ]
  },
  {
   "cell_type": "markdown",
   "id": "0601663f-845a-4ec4-b32f-c1ff639bd698",
   "metadata": {},
   "source": [
    "This project aims to provide a statistical spatial analysis of burglary crime incidents in Chicago and related visualisations. \n",
    "Appropriate clustering methods will identify clusters of crime incidents and administrative regions with a high burglary rate.\n",
    "The underlaying socio-economic factors that correlate with high crime risk will be investigated by regression methods.\n",
    "\n",
    "Goals bullet points and their potential real-world impacts:<br>\n",
    "\n",
    "| Tasks | Task Categories | Real-world impacts |\n",
    "| :---        |    :----  |          :--- |\n",
    "| Identification of burglary crime clusters | Classification of point data | Crime control and preventation, a more efficient use of the police force |\n",
    "| Correlate socio-economic factors with burglary rate | Regression | Prediction of high-burglary-rate areas |"
   ]
  },
  {
   "cell_type": "markdown",
   "id": "3e78ab41-396b-4abb-a433-c6c7abf66d62",
   "metadata": {},
   "source": [
    "These tasks can answer two questions: <br> 1. Where should resources (e.g. new surveillance systems, more frequent patrols and more police assistance booths) be allocated to reduce the burglary crime rate in Chicago? <br>\n",
    "2. Depending on socio-economic data, can the authority act proactively to prevent burglary crime?"
   ]
  },
  {
   "cell_type": "markdown",
   "id": "a35ca9fa-6303-4e5a-bdc4-c3572e9d3a86",
   "metadata": {},
   "source": [
    "### 1.3 Data source "
   ]
  },
  {
   "cell_type": "markdown",
   "id": "b07350e8-b6e6-4d8d-aba6-8b041fac45b0",
   "metadata": {},
   "source": [
    "The complete dataset of Chicago crime incidents from 2001 to the present is available through Chicago Data Portal. However, due to the scope of this analysis and the dataset's massive nature (over 7.5 million rows in March 2022), a filter is essential for obtaining a suitable subset, which contains burglary records only, and a swift data preprocessing and validation section. One way to implement such a filter is using a python package called sodapy, which is not available inside the SDS computing environment. An example is here: [https://github.com/NijunJiang/CASA0006_2022/blob/main/data_query.py]. The example python code needs an app token (registration with Chicago Data Portal required) and one line of NoSQL query to run. This project applies the 2019 dataset since the latest census data of Chicago is from 2019, and the 2020 global pandemic may introduce atypical variables.\n",
    "\n",
    "Chicago crimes -2001 to Present: https://data.cityofchicago.org/Public-Safety/Crimes-2001-to-Present/ijzp-q8t2\n",
    "\n",
    "The web page above includes metadata and column descriptions. Two columns, 'Latitude' and 'Longitude', make the geocoding of the point crime events possible.\n",
    "\n",
    "The Data Portal offers shapefiles of Chicago wards. This project utilised shapefiles to provide an intuitive map of urban burglary density and risk.\n",
    "\n",
    "Chicago Boundaries - Wards (2015 - ): https://data.cityofchicago.org/Facilities-Geographic-Boundaries/Boundaries-Wards-2015-/sp34-6z76\n",
    "\n",
    "The heartland alliance provides a range of community level census (socio-economic and population) datasets.\n",
    "\n",
    "Chicago communities datasets: https://www.heartlandalliance.org/heartland-alliance/research-and-policy/data-reports/chicago-data-dashboards/\n",
    "\n",
    "\n",
    "This notebook merges the example Chicago crime dataset with spatial features of Chicago communities and socio-economic datasets to provide a more comprehensive analysis and visualisation beyond a simple point data pattern study."
   ]
  },
  {
   "cell_type": "markdown",
   "id": "b23c11c6-ce8a-4c48-a411-22912b2743ba",
   "metadata": {},
   "source": [
    "### 1.4 Package requirement"
   ]
  },
  {
   "cell_type": "code",
   "execution_count": null,
   "id": "f87528b1-78c0-46b4-8793-13d4f38fb6a6",
   "metadata": {},
   "outputs": [],
   "source": [
    "import contextily as cx\n",
    "import geopandas as gpd\n",
    "import geopy.distance\n",
    "import matplotlib.pyplot as plt\n",
    "import numpy as np\n",
    "import pandas as pd\n",
    "import seaborn as sns\n",
    "import statsmodels.api as sm\n",
    "from IPython.display import HTML, display\n",
    "from matplotlib_scalebar.scalebar import ScaleBar\n",
    "from shapely.geometry import Point, Polygon\n",
    "from sklearn import metrics\n",
    "from sklearn.cluster import DBSCAN\n",
    "from sklearn.feature_selection import RFE\n",
    "from sklearn.linear_model import LinearRegression\n",
    "from sklearn.metrics import mean_squared_error, r2_score\n",
    "from sklearn.model_selection import (\n",
    "    GridSearchCV,\n",
    "    KFold,\n",
    "    cross_val_score,\n",
    "    train_test_split,\n",
    ")\n",
    "from sklearn.neighbors import BallTree\n",
    "from sklearn.pipeline import make_pipeline\n",
    "from sklearn.preprocessing import MinMaxScaler, PolynomialFeatures, scale\n",
    "from statsmodels.stats.outliers_influence import variance_inflation_factor\n",
    "from statsmodels.tools.tools import add_constant"
   ]
  },
  {
   "cell_type": "markdown",
   "id": "8fbfe643-e3f0-4f2b-952c-d5bd1e7dec91",
   "metadata": {},
   "source": [
    "## 2. Data preparation"
   ]
  },
  {
   "cell_type": "markdown",
   "id": "285f4af0-5f80-40e4-8901-64c63e1f3930",
   "metadata": {},
   "source": [
    "### 2.1 Data Input"
   ]
  },
  {
   "cell_type": "code",
   "execution_count": null,
   "id": "94dfd8fb-26e2-4b44-b485-35aabfa2e42b",
   "metadata": {},
   "outputs": [],
   "source": [
    "BURGLARY_2019 = pd.read_csv(\n",
    "    \"https://raw.githubusercontent.com/NijunJiang/CASA0006_2022/main/BURGLARY_2019.csv\"\n",
    ")  # burglary records of Chicago 2019\n",
    "\n",
    "chicago_community_pop = pd.read_csv(\n",
    "    \"https://raw.githubusercontent.com/NijunJiang/CASA0006_2022/main/chicago_community_population.CSV\"\n",
    ")  # population of each Chicago commmunity\n",
    "\n",
    "chicago_community = gpd.read_file(\n",
    "    \"/vsicurl/https://raw.githubusercontent.com/NijunJiang/CASA0006_2022/main/geo_export_d1f0aa30-5958-4286-841c-d61250028149.shp\"\n",
    ")  # the shapefile of Chicago communities\n",
    "\n",
    "median_household_income = pd.read_csv(\n",
    "    \"https://raw.githubusercontent.com/NijunJiang/CASA0006_2022/main/MHI_data_average_median_household_income.csv\"\n",
    ")  # median household income of each Chicago commmunity\n",
    "\n",
    "education = pd.read_csv(\n",
    "    \"https://raw.githubusercontent.com/NijunJiang/CASA0006_2022/main/bach_data.csv\"\n",
    ")  # percentage of population with a college degree of each Chicago commmunity\n",
    "\n",
    "unemply = pd.read_csv(\n",
    "    \"https://raw.githubusercontent.com/NijunJiang/CASA0006_2022/main/unemply_data.csv\"\n",
    ")  # overall unemployment rate of each Chicago community\n",
    "\n",
    "community_reference = pd.read_csv(\n",
    "    \"https://raw.githubusercontent.com/NijunJiang/CASA0006_2022/main/community_reference.csv\"\n",
    ")  # reference table for community name and number to reorder community socio-economics data\n",
    "\n",
    "# if data is not retrievable, please visit https://github.com/NijunJiang/CASA0006_2022 directly or use offline dataset that is attached with the submission"
   ]
  },
  {
   "cell_type": "markdown",
   "id": "e3dc31e5-f3ec-4431-b2cd-bdb9de6caee1",
   "metadata": {},
   "source": [
    "One example row of the crime record:"
   ]
  },
  {
   "cell_type": "code",
   "execution_count": null,
   "id": "b1093e91-9cf6-43e5-b477-8e731cb23960",
   "metadata": {},
   "outputs": [],
   "source": [
    "BURGLARY_2019.head(1)"
   ]
  },
  {
   "cell_type": "code",
   "execution_count": null,
   "id": "555201c4-8993-41bc-84ed-e982ea6f5218",
   "metadata": {},
   "outputs": [],
   "source": [
    "chicago_community_pop\n",
    "chicago_community_pop.rename(\n",
    "    columns={\"No.\": \"community number\"}, inplace=True\n",
    ")  # change the column name to ensure consistent column name between dataframes\n",
    "chicago_community_pop.head()"
   ]
  },
  {
   "cell_type": "code",
   "execution_count": null,
   "id": "59e33636-a2f6-4a47-905e-47ccc62e2966",
   "metadata": {},
   "outputs": [],
   "source": [
    "community_type = [\"community_dummy\"] * len(chicago_community.index)\n",
    "chicago_community[\n",
    "    \"community_dummy\"\n",
    "] = community_type  # nummpy value for plotting; ensure polygons have the same colour\n",
    "\n",
    "chicago_community = chicago_community.rename(\n",
    "    columns={\"area_numbe\": \"community number\"}\n",
    ")  # change the column name to ensure consistent column name between dataframes\n",
    "chicago_community.head(1)"
   ]
  },
  {
   "cell_type": "markdown",
   "id": "f16fc927-46be-4c27-804a-1c55be68f924",
   "metadata": {},
   "source": [
    "### 2.2 Data Preprocessing and Validation"
   ]
  },
  {
   "cell_type": "markdown",
   "id": "c5a477b6-592c-4086-a7e8-0b0433f16cd2",
   "metadata": {},
   "source": [
    "Previous sections loaded datasets that this project will analyse. However, several data preprocessing steps should proceed before further analysis. The first step is data cleaning. In the 2019 dataset, there are over nine thousand rows of burglary records. To ensure a successful implementation of spatial analysis techniques (e.g. DBSCAN), filtering out rows that contain NULL, N/A, or zero values in the geographic location columns (e.g. latitude and longitude columns) is necessary. "
   ]
  },
  {
   "cell_type": "code",
   "execution_count": null,
   "id": "37ee1296-054b-4c4e-a45d-676fab51de41",
   "metadata": {},
   "outputs": [],
   "source": [
    "# Do not rerun the section unless restarting the kernel; otherwise the row number difference before and after the cleaning will not show\n",
    "# Completeness check\n",
    "before_clearning_size = BURGLARY_2019.shape[0]\n",
    "BURGLARY_2019 = BURGLARY_2019[BURGLARY_2019[\"latitude\"].notna()]\n",
    "BURGLARY_2019 = BURGLARY_2019[\n",
    "    BURGLARY_2019[\"longitude\"].notna()\n",
    "]  # make sure lat and lon values are valid\n",
    "after_clearning_size = BURGLARY_2019.shape[0]\n",
    "print(\n",
    "    \"Before the first step of data cleaning, the 2019 dataset has \"\n",
    "    + str(before_clearning_size)\n",
    "    + \" rows.\"\n",
    "    + \" After cleaning, there are \"\n",
    "    + str(after_clearning_size)\n",
    "    + \" rows remaining\"\n",
    ")"
   ]
  },
  {
   "cell_type": "markdown",
   "id": "a5d6985c-18ce-48ab-a88b-a0b69dc15901",
   "metadata": {},
   "source": [
    "It is also possible that there are duplicate incidents. The section below will drop potential duplicate rows based on three columns: case_number, id and location."
   ]
  },
  {
   "cell_type": "code",
   "execution_count": null,
   "id": "9e26d9f2-d4e2-4335-9436-277f9ee5f58f",
   "metadata": {},
   "outputs": [],
   "source": [
    "# Duplicate identification and elimination\n",
    "before_clearning_size2 = BURGLARY_2019.shape[0]\n",
    "BURGLARY_2019.drop_duplicates(subset=[\"id\", \"case_number\", \"location\"])\n",
    "after_clearning_size2 = BURGLARY_2019.shape[0]\n",
    "print(\n",
    "    \"Before the second step of data cleaning, the 2019 dataset has \"\n",
    "    + str(before_clearning_size2)\n",
    "    + \" rows\"\n",
    "    + \" After cleaning, there are \"\n",
    "    + str(after_clearning_size2)\n",
    "    + \" rows remaining\"\n",
    ")"
   ]
  },
  {
   "cell_type": "markdown",
   "id": "b057dbb3-7f11-4f5d-a37d-981bed36bebb",
   "metadata": {},
   "source": [
    "Fortunately, the Data Fulfillment and Analysis Section of the Chicago Police Department did not record any duplicate cases in 2019. The next step is data type checking. We require that location information is in numerical forms, such as float."
   ]
  },
  {
   "cell_type": "code",
   "execution_count": null,
   "id": "6f4f7b5e-9550-4da5-945d-80364cd73d68",
   "metadata": {},
   "outputs": [],
   "source": [
    "print(\"Column Latitude data type: \" + str(BURGLARY_2019[\"latitude\"].dtypes))\n",
    "print(\"Column Longitude data type: \" + str(BURGLARY_2019[\"longitude\"].dtypes))"
   ]
  },
  {
   "cell_type": "markdown",
   "id": "feb7d708-d357-4ca4-9828-3eaeebf6c10e",
   "metadata": {},
   "source": [
    "The data type of the two essential columns is, as expected, the float number. The final step of preprocessing should be outlier detection. However, due to the nature (official police records) of this 2019 dataset, it is unlikely that any data point is random. All rows have their wards and community numbers, which means removing isolated cases (outliers in a statistical sense) will reduce the burglary rate in administrative areas and cause bias. While applying DBSCAN, the algorithm will automatically disregard incidents that do not belong to any clusters. This project will not use statistical methods to detect and remove outlier events at the preprocessing stage."
   ]
  },
  {
   "cell_type": "markdown",
   "id": "bf801973-2559-4cc8-8a63-3ec555fe1379",
   "metadata": {},
   "source": [
    "### 2.3 Data Munging"
   ]
  },
  {
   "cell_type": "markdown",
   "id": "79bfd19a-c277-4b78-af4c-f371819c88e9",
   "metadata": {},
   "source": [
    "There is one row of the burglary case record in the section below. Twenty-three columns provide a rich range of information, but not all of them are essential ingredients for a spatial study. Among them, four columns: ward, community area, latitude and longitude, will take part in the spatial analysis. Neither regression nor classification will use all remaining descriptive columns."
   ]
  },
  {
   "cell_type": "code",
   "execution_count": null,
   "id": "e0567223-c909-4d44-b9d1-27405c1ec10f",
   "metadata": {},
   "outputs": [],
   "source": [
    "BURGLARY_2019.head(1)"
   ]
  },
  {
   "cell_type": "markdown",
   "id": "1b2a8279-1b50-41dc-b1d1-46c64cb868e4",
   "metadata": {},
   "source": [
    "Important metadata (see more details in subheading \"Columns in this Dataset\" at https://data.cityofchicago.org/Public-Safety/Crimes-2001-to-Present/ijzp-q8t2):"
   ]
  },
  {
   "cell_type": "markdown",
   "id": "d77b1aae-2241-46d3-ab3e-2ee5182f85fd",
   "metadata": {},
   "source": [
    "\n",
    "|column name | column description |\n",
    "| :---        |    :----  |\n",
    "|id|Unique ID for identifing the record.|\n",
    "|date|Date when the incident occurred (could be an estimate).|\n",
    "|ward|The ward (City Council district) where the incident occurred. \n",
    "|community Area | community area where the incident occurred. Chicago has 77 community areas.\n",
    "|latitude|The latitude of the location where the incident occurred. |\n",
    "|longitude|The longitude of the location where the incident occurred.|"
   ]
  },
  {
   "cell_type": "code",
   "execution_count": null,
   "id": "69ae2ffe-94b9-4754-a8ee-609873a7fe6d",
   "metadata": {},
   "outputs": [],
   "source": [
    "# Removal of superfluous columns\n",
    "BURGLARY_2019_spatial = BURGLARY_2019[\n",
    "    [\"id\", \"ward\", \"community_area\", \"latitude\", \"longitude\"]\n",
    "]  # descriptive columns such as fbi_code and arrest have no impact on the spatial analysis"
   ]
  },
  {
   "cell_type": "markdown",
   "id": "dafafa50-83e0-4793-b235-4b51b77501bc",
   "metadata": {},
   "source": [
    "After reducing the complete dataset to a dataset with only municipal locations and coordinates in WSG84, pivot tables can provide an overview of the burglary case distribution across different levels of Chicago municipal districts."
   ]
  },
  {
   "cell_type": "code",
   "execution_count": null,
   "id": "8eb72030-2e36-49f3-a745-cfd35b5337da",
   "metadata": {},
   "outputs": [],
   "source": [
    "# pivot tables initialisation\n",
    "ward_count = BURGLARY_2019_spatial[\"ward\"].value_counts()\n",
    "community_count = BURGLARY_2019_spatial[\"community_area\"].value_counts()"
   ]
  },
  {
   "cell_type": "code",
   "execution_count": null,
   "id": "533deb94-dca3-45f0-8b4b-702ede8fd91e",
   "metadata": {},
   "outputs": [],
   "source": [
    "# override CSS to make multiple dataframes be able to display together\n",
    "# https://softhints.com/display-two-pandas-dataframes-side-by-side-jupyter-notebook/\n",
    "css = \"\"\"\n",
    ".output {\n",
    "    flex-direction: row;\n",
    "}\n",
    "\"\"\"\n",
    "\n",
    "HTML(\"<style>{}</style>\".format(css))"
   ]
  },
  {
   "cell_type": "code",
   "execution_count": null,
   "id": "05fc47e3-4af9-4c06-89a5-76e028405c0b",
   "metadata": {},
   "outputs": [],
   "source": [
    "# pivot tables sorting and display\n",
    "community_count = community_count.sort_index()\n",
    "community_count_frame = pd.DataFrame(\n",
    "    {\n",
    "        \"community number\": community_count.index,\n",
    "        \"burglary count 2019\": community_count.values,\n",
    "    }\n",
    ")\n",
    "\n",
    "ward_count = ward_count.sort_index()\n",
    "ward_count_frame = pd.DataFrame(\n",
    "    {\"ward\": ward_count.index, \"burglary count 2019\": ward_count.values}\n",
    ")\n",
    "\n",
    "display(community_count_frame.head())\n",
    "display(ward_count_frame.head())  # pivot tables to provide summary information"
   ]
  },
  {
   "cell_type": "markdown",
   "id": "e386fb49-42b0-4e43-9c82-c245aaf7d0bd",
   "metadata": {},
   "source": [
    "In the first five districts (ward or community), we can see the variation in incident numbers between different areas."
   ]
  },
  {
   "cell_type": "markdown",
   "id": "7b01b5f1-8ed0-40fc-8030-5fea842f165f",
   "metadata": {},
   "source": [
    "### 2.4 Data Merging"
   ]
  },
  {
   "cell_type": "markdown",
   "id": "f1ac5173-da0e-460d-b648-82a5d769a5f4",
   "metadata": {},
   "source": [
    "Given that community population data and total burglary incident numbers within communities are available, we can calculate the burglary rate (incidents per unit of population). The reason for choosing community-level analysis rather than ward is the ward is a political district, and ward boundaries change to reflect population shifts. Community borders, in contrast, are stable over time"
   ]
  },
  {
   "cell_type": "code",
   "execution_count": null,
   "id": "f185b2bb-4188-45e7-9066-c86056b548b3",
   "metadata": {},
   "outputs": [],
   "source": [
    "crime_rate_2019_frame = pd.merge(\n",
    "    community_count_frame, chicago_community_pop, on=\"community number\"\n",
    ")  # merge population data into the community info dataframe\n",
    "\n",
    "\n",
    "crime_rate_2019_frame[\"incident rate per 1000 people\"] = crime_rate_2019_frame[\n",
    "    \"burglary count 2019\"\n",
    "] / (\n",
    "    crime_rate_2019_frame[\"Population\"] / 1000\n",
    ")  # new column, incident rate per 1000 people, based on two existing columns: burglary count 2019 and population\n",
    "\n",
    "crime_rate_2019_frame"
   ]
  },
  {
   "cell_type": "markdown",
   "id": "65145887-029a-4aec-b74a-472cb7e01eb4",
   "metadata": {},
   "source": [
    "Append burglary statistical data to the community dataframe."
   ]
  },
  {
   "cell_type": "code",
   "execution_count": null,
   "id": "250d742a-62be-4629-b184-96f1a21ffb57",
   "metadata": {},
   "outputs": [],
   "source": [
    "chicago_community[\"community number\"] = chicago_community[\"community number\"].astype(\n",
    "    int\n",
    ")\n",
    "\n",
    "chicago_community_sorted = chicago_community.sort_values(by=[\"community number\"])\n",
    "chicago_community_with_crime_data = pd.merge(\n",
    "    chicago_community_sorted, crime_rate_2019_frame, on=\"community number\"\n",
    ")\n",
    "chicago_community_with_crime_data.head(1)"
   ]
  },
  {
   "cell_type": "markdown",
   "id": "d682bb27-fd8e-41a6-89b8-daf8095921f5",
   "metadata": {},
   "source": [
    "Append socio-economic factors to the burglary statistical dataframe."
   ]
  },
  {
   "cell_type": "code",
   "execution_count": null,
   "id": "e3bdbe49-7ec1-4a2b-a0d2-dfac83c8e690",
   "metadata": {},
   "outputs": [],
   "source": [
    "# reorder dataframe indexing to make sure index is correlated with community number\n",
    "unemply = unemply.set_index(\"Geography1\")\n",
    "unemply = unemply.reindex(index=community_reference[\"Name\"])\n",
    "unemply = unemply.reset_index()\n",
    "unemply = unemply[[\"Name\", \"Estimate (copy)\"]]\n",
    "\n",
    "education = education.set_index(\"Geography1\")\n",
    "education = education.reindex(index=community_reference[\"Name\"])\n",
    "education = education.reset_index()\n",
    "education = education[[\"Name\", \"Estimate (copy)\"]]\n",
    "\n",
    "median_household_income = median_household_income.set_index(\"Geography1\")\n",
    "median_household_income = median_household_income.reindex(\n",
    "    index=community_reference[\"Name\"]\n",
    ")\n",
    "median_household_income = median_household_income.reset_index()\n",
    "median_household_income = median_household_income[[\"Name\", \"Estimate (copy)\"]]"
   ]
  },
  {
   "cell_type": "code",
   "execution_count": null,
   "id": "4c261381-bea4-41bf-b2d4-6bd4109b0563",
   "metadata": {},
   "outputs": [],
   "source": [
    "unemply.rename(columns={\"Name\": \"community\"}, inplace=True)\n",
    "education.rename(columns={\"Name\": \"community\"}, inplace=True)\n",
    "median_household_income.rename(columns={\"Name\": \"community\"}, inplace=True)"
   ]
  },
  {
   "cell_type": "code",
   "execution_count": null,
   "id": "387afdda-f5cd-4f1f-bd68-c600d3b9f002",
   "metadata": {},
   "outputs": [],
   "source": [
    "unemply[\"community\"] = unemply[\"community\"].str.upper()\n",
    "education[\"community\"] = education[\"community\"].str.upper()\n",
    "median_household_income[\"community\"] = median_household_income[\"community\"].str.upper()"
   ]
  },
  {
   "cell_type": "code",
   "execution_count": null,
   "id": "1e5add81-86c3-4f05-80a3-958cef193fa3",
   "metadata": {},
   "outputs": [],
   "source": [
    "unemply.rename(columns={\"Estimate (copy)\": \"unemployment rate\"}, inplace=True)\n",
    "education.rename(columns={\"Estimate (copy)\": \"degree percentage\"}, inplace=True)\n",
    "median_household_income.rename(\n",
    "    columns={\"Estimate (copy)\": \"median household income\"}, inplace=True\n",
    ")"
   ]
  },
  {
   "cell_type": "code",
   "execution_count": null,
   "id": "74a9fa06-5958-4ce4-a5ef-6e3ae42865f7",
   "metadata": {},
   "outputs": [],
   "source": [
    "chicago_community_with_crime_data = pd.merge(\n",
    "    chicago_community_with_crime_data, unemply, on=\"community\"\n",
    ")\n",
    "\n",
    "chicago_community_with_crime_data = pd.merge(\n",
    "    chicago_community_with_crime_data, education, on=\"community\"\n",
    ")\n",
    "\n",
    "chicago_community_with_crime_data = pd.merge(\n",
    "    chicago_community_with_crime_data, median_household_income, on=\"community\"\n",
    ")"
   ]
  },
  {
   "cell_type": "code",
   "execution_count": null,
   "id": "3d609d96-bd59-42c7-bbd1-7271d35103c9",
   "metadata": {},
   "outputs": [],
   "source": [
    "chicago_community_with_crime_data.head(1)"
   ]
  },
  {
   "cell_type": "markdown",
   "id": "a834a3a8-90cb-43e6-ac1c-1bc19599cbed",
   "metadata": {},
   "source": [
    "## 3. Exploratory Data Analysis"
   ]
  },
  {
   "cell_type": "markdown",
   "id": "83be2972-5af9-47d3-a14d-0032aca2dfd3",
   "metadata": {},
   "source": [
    "### 3.1 Crime Map"
   ]
  },
  {
   "cell_type": "markdown",
   "id": "e6c1ac7b-4947-4fb5-8b72-75608ed42d64",
   "metadata": {},
   "source": [
    "With the help from the package geopandas, this section plots the visualisation of locations of burglary crime over the Chicago map. "
   ]
  },
  {
   "cell_type": "code",
   "execution_count": null,
   "id": "89651eab-efa4-45ab-8d7e-07b5cb8c5f1b",
   "metadata": {},
   "outputs": [],
   "source": [
    "crs = {\n",
    "    \"init\": \"epsg:4326\"\n",
    "}  # coordinate reference system for the latitude and longitude\n",
    "\n",
    "\n",
    "geometry = [\n",
    "    Point(xy)\n",
    "    for xy in zip(BURGLARY_2019_spatial[\"longitude\"], BURGLARY_2019_spatial[\"latitude\"])\n",
    "]\n",
    "\n",
    "\n",
    "geodata = gpd.GeoDataFrame(\n",
    "    BURGLARY_2019_spatial, crs=crs, geometry=geometry\n",
    ")  # burglary incident point data\n",
    "\n",
    "\n",
    "fig, ax = plt.subplots(figsize=(10, 10))\n",
    "ax.set_xlabel(\"Longitude\")\n",
    "ax.set_ylabel(\"Latitude\")\n",
    "ax.set_title(\"Recorded burglary incidents across the Chicago\")\n",
    "\n",
    "chicago_community.plot(\n",
    "    ax=ax, legend=True, column=\"community_dummy\", categorical=True, alpha=0.6\n",
    ")\n",
    "ax.legend()\n",
    "ax.scatter(\n",
    "    BURGLARY_2019_spatial[\"longitude\"],\n",
    "    BURGLARY_2019_spatial[\"latitude\"],\n",
    "    label=\"burglary incident\",\n",
    "    s=1,\n",
    "    c=\"red\",\n",
    ")\n",
    "ax.legend()\n",
    "cx.add_basemap(ax, crs=chicago_community.crs)  # add basemap\n",
    "# some ideas from this article: https://www.linkedin.com/pulse/geopandas-plotting-data-points-map-using-python-r%C3%A9gis-nisengwe/"
   ]
  },
  {
   "cell_type": "markdown",
   "id": "f244c810-0d43-498e-83f0-f0d04925ccd7",
   "metadata": {},
   "source": [
    "With the help of the package geopandas, this section plots the visualisation of locations of crime events over the Chicago map. This representation of the raw data provides an intuitive impression that the burglary pattern does not have an even distribution across the Chicago urban area. Four southeast districts and a few northwest areas have fewer cases than the remaining communities. At both sides of the highway 55, there are two strips of low-burglary-rate zone."
   ]
  },
  {
   "cell_type": "markdown",
   "id": "eb956a35-e97f-49b9-81b8-3d354dae33fc",
   "metadata": {},
   "source": [
    "Plots of pivot tables:"
   ]
  },
  {
   "cell_type": "code",
   "execution_count": null,
   "id": "0579232f-ae93-4e86-8c97-4b8904b63c61",
   "metadata": {},
   "outputs": [],
   "source": [
    "community_count_frame.plot.bar(\n",
    "    x=\"community number\",\n",
    "    figsize=(10, 10),\n",
    "    xlabel=\"community number index\",\n",
    "    ylabel=\"number of burglary incident 2019\",\n",
    "    title=\"Community level burglary total number\",\n",
    ")"
   ]
  },
  {
   "cell_type": "code",
   "execution_count": null,
   "id": "de35f0be-5c72-44f6-ab7e-1eddd24359f5",
   "metadata": {},
   "outputs": [],
   "source": [
    "ward_count_frame.plot.bar(\n",
    "    x=\"ward\",\n",
    "    figsize=(10, 10),\n",
    "    xlabel=\"ward number index\",\n",
    "    ylabel=\"number of burglary incident 2019\",\n",
    "    title=\"Ward level burglary total number\",\n",
    ")"
   ]
  },
  {
   "cell_type": "markdown",
   "id": "78d7224f-dfca-4ed0-8d1c-9056ef5e3d90",
   "metadata": {},
   "source": [
    "Both diagrams (Ward level burglary total number and Community level burglary total number) illustrate the significant difference in the administrative units' crime statistics."
   ]
  },
  {
   "cell_type": "markdown",
   "id": "193b4bad-6897-42c2-9ac8-bd380a06cb0c",
   "metadata": {},
   "source": [
    "### 3.2 Community-level Crime Rate "
   ]
  },
  {
   "cell_type": "code",
   "execution_count": null,
   "id": "c6e93973-7246-4265-81af-740105cd0fac",
   "metadata": {},
   "outputs": [],
   "source": [
    "fig, ax = plt.subplots(figsize=(10, 7))\n",
    "chicago_community_with_crime_data.plot(\n",
    "    column=\"incident rate per 1000 people\",\n",
    "    ax=ax,\n",
    "    legend=True,\n",
    "    legend_kwds={\"label\": \"incident rate per 1000 people\"},\n",
    ")\n",
    "chicago_community.apply(  # add community number to the polygon\n",
    "    lambda x: ax.annotate(\n",
    "        text=x[\"community number\"],\n",
    "        xy=x.geometry.centroid.coords[0],\n",
    "        ha=\"center\",\n",
    "        color=\"#ee8d18\",\n",
    "    ),\n",
    "    axis=1,\n",
    ")\n",
    "\n",
    "plt.plot([], [], \" \", label=\"70: community number\")\n",
    "legend = plt.legend()\n",
    "plt.setp(legend.get_texts(), color=\"#ee8d18\")\n",
    "ax.set_xlabel(\"Longitude\")\n",
    "ax.set_ylabel(\"Latitude\")\n",
    "ax.set_title(\"Incident rate per 1000 people (community level)\")"
   ]
  },
  {
   "cell_type": "markdown",
   "id": "9aa12187-3a8c-4ed9-9576-8ec7b79a6945",
   "metadata": {},
   "source": [
    "Southern communities (communities around and including communities 69) have a higher burglary rate than their northern counterparts."
   ]
  },
  {
   "cell_type": "code",
   "execution_count": null,
   "id": "ed43c947-2191-4de1-83ff-9734eecfd16f",
   "metadata": {},
   "outputs": [],
   "source": [
    "fig, ax = plt.subplots(figsize=(10, 7))\n",
    "chicago_community_with_crime_data.plot(\n",
    "    column=\"burglary count 2019\",\n",
    "    ax=ax,\n",
    "    legend=True,\n",
    "    legend_kwds={\"label\": \"burglary count 2019\"},\n",
    ")\n",
    "chicago_community.apply(\n",
    "    lambda x: ax.annotate(\n",
    "        text=x[\"community number\"],\n",
    "        xy=x.geometry.centroid.coords[0],\n",
    "        ha=\"center\",\n",
    "        color=\"#ee8d18\",\n",
    "    ),\n",
    "    axis=1,\n",
    ")\n",
    "\n",
    "plt.plot([], [], \" \", label=\"70: community number\")\n",
    "legend = plt.legend()\n",
    "plt.setp(legend.get_texts(), color=\"#ee8d18\")\n",
    "ax.set_xlabel(\"Longitude\")\n",
    "ax.set_ylabel(\"Latitude\")\n",
    "ax.set_title(\"Total 2019 burglary count in each Chicago community\")"
   ]
  },
  {
   "cell_type": "markdown",
   "id": "7ba8d075-1873-45f6-a142-91d73512eee2",
   "metadata": {},
   "source": [
    "The spatial distribution of communities with higher total burglary crime records is less concentrated. Community 43 has the highest number among all others. Communities adjacent to the community 24 and 71 tend to have a higher total count than the other communities."
   ]
  },
  {
   "cell_type": "markdown",
   "id": "cb1e5ae8-696a-4041-b1ed-1e1729a24653",
   "metadata": {},
   "source": [
    "### 3.3 Community-level Summary Statistics"
   ]
  },
  {
   "cell_type": "code",
   "execution_count": null,
   "id": "ea9464fc-42d3-4912-8aaf-3986d2169f1f",
   "metadata": {},
   "outputs": [],
   "source": [
    "chicago_community_with_crime_data[[\"burglary count 2019\"]].describe()"
   ]
  },
  {
   "cell_type": "markdown",
   "id": "610d2e38-6ae7-4d2f-9347-c15a92aa7e95",
   "metadata": {},
   "source": [
    "On average, during 2019, around 128 burglary incidents happened in each community."
   ]
  },
  {
   "cell_type": "code",
   "execution_count": null,
   "id": "5c6aee39-e9e3-4fb8-b2a7-8ca496894971",
   "metadata": {},
   "outputs": [],
   "source": [
    "chicago_community_with_crime_data[[\"incident rate per 1000 people\"]].describe()"
   ]
  },
  {
   "cell_type": "markdown",
   "id": "fab27cc3-ac9d-4cda-82ea-8ec214980375",
   "metadata": {},
   "source": [
    "The average incident rate per 1000 people (cases per 1000 people) is near 3.86."
   ]
  },
  {
   "cell_type": "markdown",
   "id": "f6438dba-4b6e-4cbe-986c-fae758832a4d",
   "metadata": {},
   "source": [
    "## 3. Methodology"
   ]
  },
  {
   "cell_type": "markdown",
   "id": "90522559-500f-4195-8c44-f2e9a5d967e3",
   "metadata": {},
   "source": [
    "### 3.1 DBSCAN (clustering)"
   ]
  },
  {
   "cell_type": "markdown",
   "id": "01a93f32-6c37-4068-ae9d-69c4d5c7781a",
   "metadata": {},
   "source": [
    "A range of clustering methods, including the DBSCAN algorithm, K - Nearest Neighbor and Artificial Neural Network, were applicable to crime pattern mapping (Mungekar et al., 2021). This project will not evaluate different methods' performance. The choice of the approach is based on a study analysing six Indian cities. During the research, DBSCAN outperforms K-Means clustering and Agglomerative hierarchical clustering in terms of recall and precision (Sivaranjani, Sivakumari and Aasha, 2016)."
   ]
  },
  {
   "cell_type": "markdown",
   "id": "2f4f902a-bbe3-426f-9c67-512d3012cb5d",
   "metadata": {},
   "source": [
    "DBSCAN (density-based spatial clustering of applications with noise) groups crowded points into groups and determines whether other points belong to any clusters. DBSCAN is an unsupervised learning method that requires two hyperparameters (epsilon, which determines the Euclidean searching radius of the data point; minPoints, which is the minimum number of other data points inside the search radius for the central data point to become a core point) to initialise. Within the search radius, if a point finds n (greater than zero but smaller than minPoints) other points, the point becomes a border point. The DBCAN algorithm first identifies and connects core points to form clusters and then connects border points to suitable clusters. A point that finds no other point within the search radius becomes a noise point. (Ester et al., 1996)"
   ]
  },
  {
   "cell_type": "markdown",
   "id": "b42ad54f-97f0-4614-bd89-558c607f0790",
   "metadata": {},
   "source": [
    "DBSCAN is an unsupervised learning method, meaning that validating the learning results is difficult. However, it is possible to use statistical methods (e.g. silhouette score, which is between -1 and 1) to certify the cluster quality. Silhouette measures how well an object fit within its cluster compared with other clusters (Rousseeuw, 1987)."
   ]
  },
  {
   "cell_type": "markdown",
   "id": "3bf4ba15-f7f6-46c4-95f0-5ca4d14cb40e",
   "metadata": {},
   "source": [
    "### 3.2 Linear Regression with VIF"
   ]
  },
  {
   "cell_type": "markdown",
   "id": "6d32e344-7568-4411-8c1b-39778d675565",
   "metadata": {},
   "source": [
    "This project adopts a linear regression model with VIF to forecast the crime rate given socio-economic factors relating to income, education and unemployment. Variance Inflation Factor (VIF) is an indicator of multicollinearity, the phenomenon of unexpected high intercorrelations between two or more independent variables. Multicollinearity results in an unstable linear model (i.e., slight data variation can bring abrupt changes in model regression coefficients)."
   ]
  },
  {
   "cell_type": "markdown",
   "id": "d32f65c0-457f-4627-a891-2a9bf34cb820",
   "metadata": {},
   "source": [
    "Linear regression is a supervised learning method. We can compare the prediction results with true values in different ways, such as root mean square error and mean absolute error."
   ]
  },
  {
   "cell_type": "markdown",
   "id": "99323fb2-54fc-41d0-a670-8e53b8cb1306",
   "metadata": {},
   "source": [
    "## 4. Data Analysis"
   ]
  },
  {
   "cell_type": "markdown",
   "id": "5ac105f7-8584-42bc-910c-5ab61e6f0d9f",
   "metadata": {},
   "source": [
    "### 4.1 DBSCAN "
   ]
  },
  {
   "cell_type": "markdown",
   "id": "b84628b0-6728-4089-b2c2-ac0f90ff2bed",
   "metadata": {},
   "source": [
    "#### 4.1.1 DBSCAN Hyperparameter Tuning"
   ]
  },
  {
   "cell_type": "markdown",
   "id": "5d67645a-105c-4c0e-a700-2794e0a32e5e",
   "metadata": {},
   "source": [
    "According to a case study (Rahmah and Sitanggang, 2016), an ascending plot of each point's distance to the nearest point can determine an optimal epsilon. The y-axis coordinate of the location, which has a significant slope change, is the suitable epsilon value. The Chicago crime data offers incident locations in latitude and longitude, bringing an extra layer of complexity during the distance calculation. Instead of a simple 2-D Euclidean distance equation, latitude and longitude pairs (spherical coordinates) need to use the haversine formula to find distance values between them. This section implements the haversine formula through the Balltree algorithm to solve the nearest neighbour problem."
   ]
  },
  {
   "cell_type": "markdown",
   "id": "03ad9e6d-bd39-44f4-ac80-c85f273f9242",
   "metadata": {},
   "source": [
    "The choice of the minPoints value depends on domain knowledge or the dimension of the dataset. In a study of the extended DBSCAN algorithm, network-space DBSCAN (NS-DBSCAN), an explicitly modified DBSCAN for the urban environment, applies MinPts = 20 for clustering (Wang, Ren, Luo and Tian, 2019)."
   ]
  },
  {
   "cell_type": "code",
   "execution_count": null,
   "id": "d83fc3ad-0d93-4c9a-b819-e95d38ea1557",
   "metadata": {},
   "outputs": [],
   "source": [
    "# parts of code adopted from https://stackoverflow.com/questions/61952561/how-do-i-find-the-neighbors-of-points-containing-coordinates-in-python\n",
    "DBSCANdf = BURGLARY_2019_spatial\n",
    "\n",
    "tree = BallTree(\n",
    "    np.deg2rad(DBSCANdf[[\"latitude\", \"longitude\"]].values), metric=\"haversine\"\n",
    ")\n",
    "\n",
    "\n",
    "DBSCANdf_query = BURGLARY_2019_spatial\n",
    "\n",
    "qlats = DBSCANdf_query[\"latitude\"]\n",
    "qlons = DBSCANdf_query[\"longitude\"]\n",
    "\n",
    "# use k = 2 for 1 closest neighbor (excluding the point itself)\n",
    "distances, inx = tree.query(np.deg2rad(np.c_[qlats, qlons]), k=2)\n",
    "\n",
    "distance_list = []\n",
    "r_km = 6371.0088  # multiplier to convert to km (from unit distance)\n",
    "for name, d, ind in zip(DBSCANdf_query[\"id\"], distances, inx):\n",
    "    for i, index in enumerate(ind):\n",
    "        distance_list.append(d[i] * r_km)"
   ]
  },
  {
   "cell_type": "code",
   "execution_count": null,
   "id": "97a00c73-c43e-48a1-9737-3ddd4909ee12",
   "metadata": {},
   "outputs": [],
   "source": [
    "distance_list = [\n",
    "    i for i in distance_list if i != 0\n",
    "]  # remove zeros (distance to the point itself)\n",
    "distance_list.sort()"
   ]
  },
  {
   "cell_type": "code",
   "execution_count": null,
   "id": "97484ec6-8f89-497a-bcfb-6b6816f26ffe",
   "metadata": {},
   "outputs": [],
   "source": [
    "plt.plot(distance_list)"
   ]
  },
  {
   "cell_type": "markdown",
   "id": "76ac087e-0b90-4dd7-a894-4f8ac720b2c1",
   "metadata": {},
   "source": [
    "The plot has an 'elbow' when the y value is around 0.35 km. "
   ]
  },
  {
   "cell_type": "markdown",
   "id": "71d837af-2920-421c-9b1e-3ec2d1bfe0ee",
   "metadata": {},
   "source": [
    "#### 4.1.2 DBSCAN Result Visualisation"
   ]
  },
  {
   "cell_type": "code",
   "execution_count": null,
   "id": "036bdf1a-7d59-466a-af57-90400728a5a1",
   "metadata": {},
   "outputs": [],
   "source": [
    "kms_per_radian = 6371.0088\n",
    "epsilon = 0.35 / kms_per_radian\n",
    "min_samples = 20\n",
    "\n",
    "\n",
    "def DBfunction(data, epsilon, minsample):\n",
    "    DBSCAN_result = data\n",
    "    coords = DBSCAN_result[[\"latitude\", \"longitude\"]].to_numpy()\n",
    "    db = DBSCAN(\n",
    "        eps=epsilon, min_samples=min_samples, algorithm=\"ball_tree\", metric=\"haversine\"\n",
    "    ).fit(np.radians(coords))\n",
    "    DBSCAN_result[\"DBSCAN_opt_labels\"] = db.labels_\n",
    "    DBSCAN_result[\"DBSCAN_opt_labels\"].value_counts()\n",
    "    return DBSCAN_result\n",
    "\n",
    "\n",
    "DBSCAN_result = DBfunction(\n",
    "    data=BURGLARY_2019_spatial, epsilon=epsilon, minsample=min_samples\n",
    ")\n",
    "len(DBSCAN_result[\"DBSCAN_opt_labels\"].value_counts())"
   ]
  },
  {
   "cell_type": "code",
   "execution_count": null,
   "id": "6cdc53fb-9fdc-4c37-8ecf-09b1fa1fc442",
   "metadata": {},
   "outputs": [],
   "source": [
    "def dbPlot(DBSCAN_result):\n",
    "    DBSCAN_result_wN = DBSCAN_result.drop(\n",
    "        DBSCAN_result[DBSCAN_result.DBSCAN_opt_labels == -1].index\n",
    "    )\n",
    "\n",
    "    fig, ax = plt.subplots(figsize=(10, 10))\n",
    "    ax.set_xlabel(\"Longitude\")\n",
    "    ax.set_ylabel(\"Latitude\")\n",
    "    ax.set_title(\"Burglary Clusters across the Chicago\")\n",
    "\n",
    "    chicago_community.plot(\n",
    "        ax=ax, legend=True, column=\"community_dummy\", categorical=True\n",
    "    )\n",
    "    chicago_community.apply(  # assign community number on the polygon\n",
    "        lambda x: ax.annotate(\n",
    "            text=x[\"community number\"],\n",
    "            xy=x.geometry.centroid.coords[0],\n",
    "            ha=\"center\",\n",
    "            color=\"#ee8d18\",\n",
    "        ),\n",
    "        axis=1,\n",
    "    )\n",
    "    ax.scatter(  # plot clusters\n",
    "        DBSCAN_result_wN[\"longitude\"],\n",
    "        DBSCAN_result_wN[\"latitude\"],\n",
    "        c=DBSCAN_result_wN[\"DBSCAN_opt_labels\"],\n",
    "        s=5,\n",
    "    )\n",
    "\n",
    "    plt.plot([], [], \" \", label=\"70: community number\")\n",
    "    legend = plt.legend()\n",
    "    plt.setp(legend.get_texts(), color=\"#ee8d18\")\n",
    "    score = metrics.silhouette_score(\n",
    "        DBSCAN_result_wN[[\"latitude\", \"longitude\"]].to_numpy(),\n",
    "        DBSCAN_result_wN[\"DBSCAN_opt_labels\"],\n",
    "        metric=\"euclidean\",\n",
    "    )\n",
    "    print(\"The silhouette score is \" + str(score))\n",
    "\n",
    "\n",
    "dbPlot(DBSCAN_result=DBSCAN_result)"
   ]
  },
  {
   "cell_type": "markdown",
   "id": "bf5212fe-dfb8-43d0-8e19-42cd8896d483",
   "metadata": {},
   "source": [
    "The algorithm spots fifty-four clusters of burglary crime in Chicago. Some areas (e.g. community 25, community 24 and community 67) have multiple clusters, while several northeast regions (e.g. community 17 & 11) and middle sections (e.g. community 56 and 31) have no clusters. "
   ]
  },
  {
   "cell_type": "code",
   "execution_count": null,
   "id": "5bd82bd2-bc5d-4458-882f-7b60228485aa",
   "metadata": {},
   "outputs": [],
   "source": [
    "# plot the total case number of each cluster\n",
    "cluster_stats = DBSCAN_result[\"DBSCAN_opt_labels\"].value_counts().to_frame()\n",
    "cluster_stats = cluster_stats.rename(\n",
    "    columns={\"DBSCAN_opt_labels\": \"case number in cluster\"}\n",
    ")\n",
    "\n",
    "cluster_stats = cluster_stats.iloc[1:, :]  # remove the noise row\n",
    "ax = cluster_stats.sort_index().plot.bar(figsize=(10, 10))\n",
    "ax.set_xlabel(\"Cluster index\")\n",
    "ax.set_ylabel(\"number of cases\")\n",
    "ax.set_title(\"Number of burglary cases in each cluster\")"
   ]
  },
  {
   "cell_type": "markdown",
   "id": "86473074-4909-4951-a675-76333e5362c2",
   "metadata": {},
   "source": [
    "The graph of the number of cases in each cluster shows that most clusters possess less than one hundred records. However, six clusters have cases exceeding two hundred. The indices of clusters are not arbitrary (i.e. their geolocations can be found on the map)."
   ]
  },
  {
   "cell_type": "markdown",
   "id": "6532858d-c57c-4180-871b-f872a36155ea",
   "metadata": {},
   "source": [
    "#### 4.1.3 Qualitative description of DBSCAN Clusters and Discussion"
   ]
  },
  {
   "cell_type": "code",
   "execution_count": null,
   "id": "cbf11998-b000-4b63-8548-4d795a0a0e9a",
   "metadata": {},
   "outputs": [],
   "source": [
    "print(\n",
    "    \"On average, one cluster have \"\n",
    "    + str(DBSCAN_result[\"DBSCAN_opt_labels\"].value_counts().drop(labels=[-1]).mean())\n",
    "    + \" records\"\n",
    ")"
   ]
  },
  {
   "cell_type": "markdown",
   "id": "79c420f1-4594-4c1e-a0ae-7044a049d7b1",
   "metadata": {},
   "source": [
    "The silhouette score (between -1 and 1) is 0.4401230161702594, indicating an acceptable clustering quality, and clusters are not likely to be overlapped or mislabelled. Each cluster, on average, contains near 70 recorded burglary incidents. The clusters are mainly congested into two areas: northern communities around community 24 and southern communities near community 69. Between two regions with a relatively high density of clusters, a buffer zone, namely, community 56-60 and community 33-36, has no cluster. Further in southern Chicago, two clusters scatter over the community 49 and 53, and in the northwest of the city, DBSCAN detects no cluster."
   ]
  },
  {
   "cell_type": "markdown",
   "id": "aca2aef2-f132-4eb2-ac6f-8560714a7edb",
   "metadata": {},
   "source": [
    "#### 4.1.4 DBSCAN Visualisation With Temporal Constraints"
   ]
  },
  {
   "cell_type": "markdown",
   "id": "07ba2722-7aac-4284-b897-d86b1ae4af1d",
   "metadata": {},
   "source": [
    "In this section 4.1.2, the visualisation of burglary clusters is complete. However, there is a significant issue undermining the value of the finding, cases inside clusters correlate with each other in the spatial domain, but temporal distances between points are neglected. We must consider the time timestamp for real-world problems (e.g. should a December case be associated with a cluster of multiple January records in the area?). This section assumes a scenario in which the authority requires a crime analysis of the first five months of 2019."
   ]
  },
  {
   "cell_type": "code",
   "execution_count": null,
   "id": "f71cccde-6806-4a5e-bc22-1b7564153603",
   "metadata": {},
   "outputs": [],
   "source": [
    "BURGLARY_2019[\"date\"] = pd.to_datetime(BURGLARY_2019[\"date\"])\n",
    "\n",
    "BURGLARY_2019 = BURGLARY_2019.sort_values(by=[\"date\"])\n",
    "\n",
    "mask = (BURGLARY_2019[\"date\"] > \"2019-1-1\") & (BURGLARY_2019[\"date\"] <= \"2019-5-30\")\n",
    "BURGLARY_2019_JAN = BURGLARY_2019.loc[mask]\n",
    "\n",
    "BURGLARY_2019_JAN_result = DBfunction(\n",
    "    data=BURGLARY_2019_JAN, epsilon=epsilon, minsample=min_samples\n",
    ")\n",
    "dbPlot(DBSCAN_result=BURGLARY_2019_JAN_result)\n",
    "BURGLARY_2019_JAN_result[\"DBSCAN_opt_labels\"].value_counts()"
   ]
  },
  {
   "cell_type": "code",
   "execution_count": null,
   "id": "b32b3150-87d9-41c8-9dcc-97366d38bc58",
   "metadata": {},
   "outputs": [],
   "source": [
    "print(\n",
    "    \"On average, one cluster have \"\n",
    "    + str(\n",
    "        BURGLARY_2019_JAN_result[\"DBSCAN_opt_labels\"]\n",
    "        .value_counts()\n",
    "        .drop(labels=[-1])\n",
    "        .mean()\n",
    "    )\n",
    "    + \" records\"\n",
    ")"
   ]
  },
  {
   "cell_type": "markdown",
   "id": "4802d7da-5cd4-4f29-86cf-4e33b647c818",
   "metadata": {},
   "source": [
    "A temporal constraint reduces the total number of clusters by 51 (from 54 to 3). The largest cluster in this scenario has 78 cases. During the first five months of 2019, DBSCAN finds one cluster in community 22, another one at the northeast corner of community 44, and a third across the border between community 43 and 46."
   ]
  },
  {
   "cell_type": "markdown",
   "id": "fbb29332-e7b0-4c02-b9b1-3c7dae597807",
   "metadata": {},
   "source": [
    "#### 4.1.5 DBSCAN Further Work"
   ]
  },
  {
   "cell_type": "markdown",
   "id": "f3eaab82-e98c-4533-818c-af755f95d051",
   "metadata": {},
   "source": [
    "With one additional hyperparameter, temporal maximum reachable distance, an extended DBSCAN becomes ST-DBSCAN, allowing point data to search neighbouring events in the temporal domain (Chen and Cheng 2020). The rigid temporal constraint in section 4.1.3 may partially solve the temporal correlation issue. Still, it has a border problem (i.e. if the temporal boundary is 1st May, a case that occurred on 2nd May will not associate with any previous cases).\n",
    "\n",
    "The package st_dbscan is not available in the coursework environment."
   ]
  },
  {
   "cell_type": "markdown",
   "id": "b62a9e79-eb3b-446e-82d2-ea99c318ea07",
   "metadata": {},
   "source": [
    "### 4.2 Linear Regression with VIF"
   ]
  },
  {
   "cell_type": "markdown",
   "id": "119a22b3-c017-4253-a73c-187a8a51fb21",
   "metadata": {},
   "source": [
    "#### 4.2.1 Variance Inflation Factor"
   ]
  },
  {
   "cell_type": "code",
   "execution_count": null,
   "id": "786ed0e0-5b64-414d-8a07-224ecad252e1",
   "metadata": {},
   "outputs": [],
   "source": [
    "chicago_community_with_crime_data = chicago_community_with_crime_data[\n",
    "    ~chicago_community_with_crime_data.isin([np.nan, np.inf, -np.inf]).any(1)\n",
    "]\n",
    "chicago_community_with_crime_data = add_constant(chicago_community_with_crime_data)\n",
    "X_variables = chicago_community_with_crime_data[\n",
    "    [\"unemployment rate\", \"degree percentage\", \"median household income\"]\n",
    "]\n",
    "vif_data = pd.DataFrame()\n",
    "vif_data[\"feature\"] = X_variables.columns\n",
    "vif_data[\"VIF\"] = [\n",
    "    variance_inflation_factor(X_variables.values, i)\n",
    "    for i in range(len(X_variables.columns))\n",
    "]"
   ]
  },
  {
   "cell_type": "code",
   "execution_count": null,
   "id": "653d7812-72b2-4a85-bdca-93be04f88d93",
   "metadata": {},
   "outputs": [],
   "source": [
    "vif_data"
   ]
  },
  {
   "cell_type": "markdown",
   "id": "9df0aa9a-4dd7-48ec-a81e-f34d4c02551e",
   "metadata": {},
   "source": [
    "The VIF for median household income is exceptionally higher. To ensure the stability of regression model, further analysis will exclude the median household income."
   ]
  },
  {
   "cell_type": "code",
   "execution_count": null,
   "id": "287ed9dc-dd74-49df-8718-dbc94994136f",
   "metadata": {},
   "outputs": [],
   "source": [
    "chicago_community_with_crime_data = chicago_community_with_crime_data[\n",
    "    ~chicago_community_with_crime_data.isin([np.nan, np.inf, -np.inf]).any(1)\n",
    "]\n",
    "chicago_community_with_crime_data = add_constant(chicago_community_with_crime_data)\n",
    "X_variables = chicago_community_with_crime_data[\n",
    "    [\"unemployment rate\", \"degree percentage\"]\n",
    "]\n",
    "vif_data = pd.DataFrame()\n",
    "vif_data[\"feature\"] = X_variables.columns\n",
    "vif_data[\"VIF\"] = [\n",
    "    variance_inflation_factor(X_variables.values, i)\n",
    "    for i in range(len(X_variables.columns))\n",
    "]\n",
    "vif_data"
   ]
  },
  {
   "cell_type": "markdown",
   "id": "751b58fe-dc16-4360-8903-3192014e150e",
   "metadata": {},
   "source": [
    "The VIF for two remaining factors fall into the cceptable range."
   ]
  },
  {
   "cell_type": "markdown",
   "id": "9c79c834-0785-441b-932a-15e010972527",
   "metadata": {},
   "source": [
    "#### 4.2.2 Multivariate Linear Regression Model"
   ]
  },
  {
   "cell_type": "code",
   "execution_count": null,
   "id": "ed09da19-db0e-415a-b74f-5dd7b096c0fd",
   "metadata": {},
   "outputs": [],
   "source": [
    "regression_dataset = chicago_community_with_crime_data[\n",
    "    [\"incident rate per 1000 people\", \"unemployment rate\", \"degree percentage\"]\n",
    "]"
   ]
  },
  {
   "cell_type": "code",
   "execution_count": null,
   "id": "a1deb5ac-ed52-472b-9501-8889b18762e6",
   "metadata": {},
   "outputs": [],
   "source": [
    "# testing training datasets split\n",
    "random_state_split = 1999\n",
    "train_x, test_x, train_y, test_y = train_test_split(\n",
    "    regression_dataset.drop([\"incident rate per 1000 people\"], axis=1),\n",
    "    regression_dataset[[\"incident rate per 1000 people\"]],\n",
    "    random_state=random_state_split,\n",
    ")"
   ]
  },
  {
   "cell_type": "code",
   "execution_count": null,
   "id": "4b645333-3a59-4115-a4ae-4e7408cf3482",
   "metadata": {},
   "outputs": [],
   "source": [
    "# train the regression model\n",
    "lr = LinearRegression()\n",
    "lr.fit(X=train_x, y=train_y)"
   ]
  },
  {
   "cell_type": "code",
   "execution_count": null,
   "id": "43c0f197-a093-47ae-be1b-cda55a567840",
   "metadata": {},
   "outputs": [],
   "source": [
    "# test the model\n",
    "y_pred = lr.predict(test_x)"
   ]
  },
  {
   "cell_type": "code",
   "execution_count": null,
   "id": "231b28b8-1687-49e7-8b37-e2b3b717babf",
   "metadata": {},
   "outputs": [],
   "source": [
    "# Compare testing values and prediction values\n",
    "y_pred_frame = pd.DataFrame(y_pred, columns=[\"pred_rate\"])\n",
    "y_pred_frame\n",
    "compare = pd.concat(\n",
    "    [test_y, y_pred_frame.set_index(test_y.index)], axis=1, ignore_index=True\n",
    ")\n",
    "compare.columns = [\"test_y\", \"y_pred\"]"
   ]
  },
  {
   "cell_type": "code",
   "execution_count": null,
   "id": "c16f4808-7191-48f9-8932-2daf6c77258b",
   "metadata": {},
   "outputs": [],
   "source": [
    "# merge prediction of crime rates into community dataframe for plotting\n",
    "regression_result = pd.merge(\n",
    "    chicago_community_with_crime_data,\n",
    "    compare[[\"y_pred\"]],\n",
    "    left_index=True,\n",
    "    right_index=True,\n",
    ")\n",
    "regression_result.head(1)"
   ]
  },
  {
   "cell_type": "markdown",
   "id": "a0eb1173-0f63-4067-b5b2-3336526b7cae",
   "metadata": {},
   "source": [
    "#### 4.2.2 Model Peformance"
   ]
  },
  {
   "cell_type": "code",
   "execution_count": null,
   "id": "7ca384c4-8203-483d-995c-32b3c0956309",
   "metadata": {},
   "outputs": [],
   "source": [
    "# give summary info of a linear regression model using statsmodel\n",
    "regressor_OLS = sm.OLS(endog=train_y, exog=sm.add_constant(train_x)).fit()\n",
    "regressor_OLS.summary()"
   ]
  },
  {
   "cell_type": "markdown",
   "id": "38432813-3a12-4dbc-a57e-431ec7834922",
   "metadata": {},
   "source": [
    "Adjusted R-squared equals 0.638, indicating that the linear regression model from section 4.2.2 can explain 63.8% of the change in the dependent variable. The difference between R-squared and adjusted R-squared is that adjusted R-squared penalises the score of a linear regression model according to the number of independent variables. Since a model's R-squared value will never decrease with additional independent variables (investopedia, 2022), adjusted R-squared can better reflect the performance of the burglary rate prediction model."
   ]
  },
  {
   "cell_type": "markdown",
   "id": "8739c296-b9d6-42af-a89b-c835567fed41",
   "metadata": {},
   "source": [
    "Another interesting parameter is the P>|t| value or P-value. The P-value for degree percentage (the percentage of the population with a college degree) is 0.267, which means that the probability of this variable being irrelevant during the regression is 26.7%. The coefficient of degree percentage is close to zero for 95% of the training data ([0.025 0.975]: -0.011 0.038). The P-value for the unemployment rate is 0, which suggests a strong relationship between the unemployment rate and the burglary crime rate."
   ]
  },
  {
   "cell_type": "code",
   "execution_count": null,
   "id": "ef7020d6-1f9c-4c02-bb27-ac5a6207f2fc",
   "metadata": {},
   "outputs": [],
   "source": [
    "print(\n",
    "    \"maximum difference between the prediction and the actual value is \"\n",
    "    + str(max((compare[\"test_y\"] - compare[\"y_pred\"]).abs()))\n",
    "    + \"  per 1000 people\"\n",
    ")\n",
    "print(\n",
    "    \"average difference between the prediction and the actual value is \"\n",
    "    + str((compare[\"test_y\"] - compare[\"y_pred\"]).abs().mean())\n",
    "    + \"  per 1000 people\"\n",
    ")\n",
    "\n",
    "print(\n",
    "    \"The root mean square error (RMSE) is \"\n",
    "    + str(mean_squared_error(compare[\"test_y\"],  compare[\"y_pred\"], squared=False))\n",
    ")"
   ]
  },
  {
   "cell_type": "markdown",
   "id": "147fca7d-89f3-4e50-85c6-d7f0d0a933fd",
   "metadata": {},
   "source": [
    "#### 4.2.3 Linear Regression Results Visualisation"
   ]
  },
  {
   "cell_type": "code",
   "execution_count": null,
   "id": "42cc2900-355f-49b7-8b6d-3772a7cf47f3",
   "metadata": {},
   "outputs": [],
   "source": [
    "ax = (\n",
    "    compare.rename(\n",
    "        columns={\"test_y\": \"actual burglary rate\", \"y_pred\": \"regression predictions\"}\n",
    "    )\n",
    "    .reset_index()[[\"actual burglary rate\", \"regression predictions\"]]\n",
    "    .plot(style=[\"o\", \"rx\"])\n",
    ")\n",
    "ax.set_xlabel(\"index\")\n",
    "ax.set_ylabel(\"burglary rate per 1000 people\")\n",
    "ax.set_title(\"Actual burglary rate vs prediction rate\")"
   ]
  },
  {
   "cell_type": "markdown",
   "id": "ee0cb554-0235-464a-8dfb-aa61abff1996",
   "metadata": {},
   "source": [
    "Figure (Actual burglary rate vs prediction rate) reveals that the misfitting between predictions and recorded values vary across the testing dataset. The maximum difference is around 2.74 per one thousand community residents. The average difference between the prediction and the actual value is close to 1 case per 1000 people."
   ]
  },
  {
   "cell_type": "code",
   "execution_count": null,
   "id": "66b15772-3267-46de-9ba6-a63e5c8f6fb7",
   "metadata": {},
   "outputs": [],
   "source": [
    "regression_result_gdf = gpd.GeoDataFrame(\n",
    "    regression_result, geometry=regression_result.geometry\n",
    ")\n",
    "regression_result_gdf = regression_result_gdf.set_crs(\n",
    "    4326, allow_override=True\n",
    ")  # set the coordinate reference system for basemap\n",
    "\n",
    "fig, ax = plt.subplots(figsize=(10, 10))\n",
    "ax.set_xlabel(\"Longitude\")\n",
    "ax.set_ylabel(\"Latitude\")\n",
    "ax.set_title(\n",
    "    \"Burglary Rates of testing group Communities (linear regression's prediction results)\"\n",
    ")\n",
    "regression_result_gdf.plot(\n",
    "    ax=ax, legend=True, column=\"y_pred\", categorical=False, alpha=0.8\n",
    ")\n",
    "cx.add_basemap(ax, crs=regression_result_gdf.crs)\n",
    "\n",
    "fig2, ax2 = plt.subplots(figsize=(10, 10))\n",
    "ax2.set_xlabel(\"Longitude\")\n",
    "ax2.set_ylabel(\"Latitude\")\n",
    "ax2.set_title(\"Burglary Rates of testing group Communities (actual value)\")\n",
    "regression_result_gdf.plot(\n",
    "    ax=ax2,\n",
    "    legend=True,\n",
    "    column=\"incident rate per 1000 people\",\n",
    "    categorical=False,\n",
    "    alpha=0.8,\n",
    ")\n",
    "cx.add_basemap(ax2, crs=regression_result_gdf.crs)"
   ]
  },
  {
   "cell_type": "markdown",
   "id": "5f82e66e",
   "metadata": {},
   "source": [
    "Some discrepancy exists between prediction and recorded values, but the general crime rate trend remains consistent between the two diagrams."
   ]
  },
  {
   "cell_type": "markdown",
   "id": "b9247c1e-c5c0-4037-9b15-c54226ab3c42",
   "metadata": {},
   "source": [
    "## 5. Project Summary and Conclusion"
   ]
  },
  {
   "cell_type": "markdown",
   "id": "d160069a-3e85-45dc-bada-a3aad77fb7a0",
   "metadata": {},
   "source": [
    "This project provides precise locations of burglary crime clusters on a georeferenced map. Law enforcement can consider patrolling these crime cluster areas more often or deploying extra posts to these hotspots. According to relevant literature (Wheeler and Reuter, 2020), installing additional preventive measures around crime hotspots can pay back economically. The figure (Burglary Clusters across the Chicago) is a graphical answer to project question 1 (1. Where should resources be allocated to reduce the burglary crime rate in Chicago?).\n",
    "\n"
   ]
  },
  {
   "cell_type": "markdown",
   "id": "35a45109-754f-4bb6-89f3-564bd1774b6c",
   "metadata": {},
   "source": [
    "Section 4.2 includes the training and testing of the linear regression model that can predict burglary crime rate given specific socio-economic facts of investigation areas. Policymakers can be advised in advance about the possible crime rate trend when the census data is available."
   ]
  },
  {
   "cell_type": "markdown",
   "id": "ccea67e2-b257-4a77-b279-960e21b42f99",
   "metadata": {},
   "source": [
    "The unsupervised (DBSCAN) and the supervised model (linear regression) of this project are flexible. The DBSCAN model can operate with other crime incidents records as long as they are geocoded in latitude and longitude. With some minor modifications, the linear regression model can handle more columns of demographic datasets."
   ]
  },
  {
   "cell_type": "markdown",
   "id": "689db078-0048-499d-9d07-896b15fbbffc",
   "metadata": {},
   "source": [
    "## 6. Critical Analysis"
   ]
  },
  {
   "cell_type": "markdown",
   "id": "a1fd9454-53cf-4bf9-891e-2c7332783cea",
   "metadata": {},
   "source": [
    "### 6.1 DBSCAN Critical Analysis"
   ]
  },
  {
   "cell_type": "markdown",
   "id": "b06a7cd6-6b6d-489d-93d3-6a1406a8a784",
   "metadata": {},
   "source": [
    "This project's cluster results are immature because, besides the main DBSCAN analysis does not take into account the temporal correlations, the selection of hyperparameters is based on domain knowledge from different discplines other than criminology. The NT-BDSCAN has a promising outlook in urban crime pattern analysis. If we can bring criminology experts and researchers of network clustering together, we may get more accurate clusters that can be of practical use to the police."
   ]
  },
  {
   "cell_type": "markdown",
   "id": "848de212-e8dd-41da-aa26-fa3f14d9f324",
   "metadata": {},
   "source": [
    "### 6.2 Linear Regression Model Critical Analysis"
   ]
  },
  {
   "cell_type": "markdown",
   "id": "94e93bf7-9842-47e1-b043-9ccd794540d2",
   "metadata": {},
   "source": [
    "The linear regression model can accommodate continuous variables, but if we need to examine categorical such as if the community has a highway passing through, we need to adopt another regression method. A classification and regression tree (CART) can adapt both discrete and continuous data. However, the project team should carefully consider the choice of datasets since the R-square value (i.e. how much output variance can be explained by model input independent variables) will either increase or stagnate with additional variables. A sophisticated multivariate prediction model requires criminologists and data scientists to work together."
   ]
  },
  {
   "cell_type": "markdown",
   "id": "4efbe453-2771-412e-9683-434e21003c93",
   "metadata": {},
   "source": [
    "The selection of census datasets follows studies of different cities and areas. The variation in the cultural, political and economic context of study areas may cause correlations less suitable for investigating the Chicago crime data. Before the regression study, a separate analysis of the relationship between the Chicago social-economic background and crime rate may be needed."
   ]
  },
  {
   "cell_type": "markdown",
   "id": "944e5720-c0c8-4147-b3c2-ee9f82871dae",
   "metadata": {},
   "source": [
    "# Bibliography"
   ]
  },
  {
   "cell_type": "markdown",
   "id": "97023611-2c81-4b1a-922a-8095c8456ddc",
   "metadata": {},
   "source": [
    "Andresen, M., 2005. Crime Measures and the Spatial Analysis of Criminal Activity. The British Journal of Criminology, 46(2), pp.258-285.\n",
    "\n",
    "Charron, M. 2009. Neighbourhood Characteristics and the Distribution of Police-reported Crime in the City of Toronto. Canadian Centre For Justice Statistics. Catalogue no. 85-561-M, no. 18\n",
    "\n",
    "Craglia, M., Haining, R. and Wiles, P., 2000. A Comparative Evaluation of Approaches to Urban Crime Pattern Analysis. Urban Studies, 37(4), pp.711-729.\n",
    "\n",
    "Ester, M., Kriegel, H.-P., Sander, J., & Xu, X. (1996). A density-based algorithm for discovering clusters in large spatial databases with noise. 226–231.\n",
    "\n",
    "FBI UCR. 2019. Burglary. [online] Available at: <https://ucr.fbi.gov/crime-in-the-u.s/2019/crime-in-the-u.s.-2019/topic-pages/burglary> [Accessed 17 March 2022].\n",
    "\n",
    "Hjalmarsson, Randi & Lochner, Lance. (2012). The Impact of Education on Crime: International Evidence. CESifo Dice Report, Journal for Institutional Comparisons. 10. \n",
    "\n",
    "Investopedia. 2022. What Is R-Squared?. [online] Available at: <https://www.investopedia.com/terms/r/r-squared.asp> [Accessed 23 April 2022].\n",
    "\n",
    "Lin, M., 2008. Does Unemployment Increase Crime?: Evidence from U.S. Data 1974-2000. Journal of Human Resources, 43(2), pp.413-436.\n",
    "\n",
    "Mungekar, D., Joshi, H., Kankekar, A., Nair, P. and Das, P., 2021. Crime Analysis using DBSCAN Algorithm. 2021 Third International Conference on Inventive Research in Computing Applications (ICIRCA),.\n",
    "\n",
    "Rahmah, N. and Sitanggang, I., 2016. Determination of Optimal Epsilon (Eps) Value on DBSCAN Algorithm to Clustering Data on Peatland Hotspots in Sumatra. IOP Conference Series: Earth and Environmental Science, 31, p.012012.\n",
    "\n",
    "Roshan P. Thakur, 2020. CRIME ANALYSIS AND PREDICTION - BY USING DBSCAN ALGORITHM. International Research Journal of Engineering and Technology (IRJET), 7(4), pp. 4262 - 4266\n",
    "\n",
    "Rousseeuw, P., 1987. Silhouettes: A graphical aid to the interpretation and validation of cluster analysis. Journal of Computational and Applied Mathematics, 20, pp.53-65.\n",
    "\n",
    "Sivaranjani, S., Sivakumari, S. and Aasha, M., 2016. Crime prediction and forecasting in Tamilnadu using clustering approaches. 2016 International Conference on Emerging Technological Trends (ICETT),.\n",
    "\n",
    "Wang, T., Ren, C., Luo, Y. and Tian, J., 2019. NS-DBSCAN: A Density-Based Clustering Algorithm in Network Space. ISPRS International Journal of Geo-Information, 8(5), p.218.\n",
    "\n",
    "Wheeler, A. and Reuter, S., 2020. Redrawing Hot Spots of Crime in Dallas, Texas. Police Quarterly, 24(2), pp.159-184.\n"
   ]
  }
 ],
 "metadata": {
  "kernelspec": {
   "display_name": "Python 3 (ipykernel)",
   "language": "python",
   "name": "python3"
  },
  "language_info": {
   "codemirror_mode": {
    "name": "ipython",
    "version": 3
   },
   "file_extension": ".py",
   "mimetype": "text/x-python",
   "name": "python",
   "nbconvert_exporter": "python",
   "pygments_lexer": "ipython3",
   "version": "3.9.6"
  },
  "toc-autonumbering": false,
  "toc-showmarkdowntxt": false,
  "toc-showtags": false
 },
 "nbformat": 4,
 "nbformat_minor": 5
}
